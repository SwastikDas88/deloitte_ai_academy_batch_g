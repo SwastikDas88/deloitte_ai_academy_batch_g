{
 "cells": [
  {
   "cell_type": "code",
   "execution_count": 1,
   "id": "61355c49",
   "metadata": {},
   "outputs": [],
   "source": [
    "## Questions:\n",
    "\n",
    "## 1. Create a ndarray of first five multiples of 6.\n",
    "## 2. Convert the 1D array created in Q1 to 3D, and display the number of dimensions of the latter.\n",
    "## 3. Create a 2D array where first 5 prime numbers occupy the 1st dimension & the first 5 composite numbers in the 2nd \n",
    "##    dimension.\n",
    "## 4. From the array created in Q3, retrieve the last element from 2nd dimension.\n",
    "## 5. Retrieve the 2nd, 3rd and 4th elements from both dimensions of the 2D array created in Q3.\n",
    "## 6. Display the data type of the array created in Q1, and change it to float.\n",
    "## 7. Create a 1D array of twelve zeros and reshape it to a 2D array of shape (3,4).\n",
    "## 8. Flatten the 2D array that you created in the previous question back to 1D.\n",
    "## 9. Consider an array [24,45,67,90,123,367]. Find the indexes where the values are even.\n",
    "## 10. Create two arrays, one with first 5 odd numbers and the other with first 5 even numbers. \n",
    "##     Then concatenate both the arrays along columns.\n",
    "## 11. Subtract the even number array from the odd number array created in Q10.\n",
    "## 12. Create two matrices of the squares and cubes of first 4 natural numbers, and perform matrix multiplication. \n",
    "##     Also, obtain the transpose of the matrix resulting from the multiplication."
   ]
  }
 ],
 "metadata": {
  "kernelspec": {
   "display_name": "Python 3",
   "language": "python",
   "name": "python3"
  },
  "language_info": {
   "codemirror_mode": {
    "name": "ipython",
    "version": 3
   },
   "file_extension": ".py",
   "mimetype": "text/x-python",
   "name": "python",
   "nbconvert_exporter": "python",
   "pygments_lexer": "ipython3",
   "version": "3.8.8"
  }
 },
 "nbformat": 4,
 "nbformat_minor": 5
}
